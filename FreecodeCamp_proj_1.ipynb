{
  "nbformat": 4,
  "nbformat_minor": 0,
  "metadata": {
    "colab": {
      "provenance": []
    },
    "kernelspec": {
      "name": "python3",
      "display_name": "Python 3"
    },
    "language_info": {
      "name": "python"
    }
  },
  "cells": [
    {
      "cell_type": "code",
      "execution_count": 1,
      "metadata": {
        "id": "yTJoYV9T_cmc"
      },
      "outputs": [],
      "source": [
        "import numpy as np\n",
        "\n",
        "def calculate(numbers):\n",
        "    if len(numbers) != 9:\n",
        "        raise ValueError(\"List must contain nine numbers.\")\n",
        "\n",
        "    # Convert the list to a 3x3 NumPy array\n",
        "    matrix = np.array(numbers).reshape(3, 3)\n",
        "\n",
        "    # Calculate mean, variance, standard deviation, max, min, and sum\n",
        "    mean = [list(matrix.mean(axis=1)), list(matrix.mean(axis=0)), matrix.mean()]\n",
        "    variance = [list(matrix.var(axis=1)), list(matrix.var(axis=0)), matrix.var()]\n",
        "    std_deviation = [list(matrix.std(axis=1)), list(matrix.std(axis=0)), matrix.std()]\n",
        "    max_vals = [list(matrix.max(axis=1)), list(matrix.max(axis=0)), matrix.max()]\n",
        "    min_vals = [list(matrix.min(axis=1)), list(matrix.min(axis=0)), matrix.min()]\n",
        "    sum_vals = [list(matrix.sum(axis=1)), list(matrix.sum(axis=0)), matrix.sum()]\n",
        "\n",
        "    # Construct the result dictionary\n",
        "    result = {\n",
        "        'mean': mean,\n",
        "        'variance': variance,\n",
        "        'standard deviation': std_deviation,\n",
        "        'max': max_vals,\n",
        "        'min': min_vals,\n",
        "        'sum': sum_vals\n",
        "    }\n",
        "\n",
        "    return result\n"
      ]
    },
    {
      "cell_type": "code",
      "source": [
        "calculate([0,1,2,3,4,5,6,7,8])\n"
      ],
      "metadata": {
        "id": "ZsHQ7V6j_m_3",
        "outputId": "da6acf3f-1a7f-4792-f5f7-1edd9a4f4aa4",
        "colab": {
          "base_uri": "https://localhost:8080/"
        }
      },
      "execution_count": 2,
      "outputs": [
        {
          "output_type": "execute_result",
          "data": {
            "text/plain": [
              "{'mean': [[1.0, 4.0, 7.0], [3.0, 4.0, 5.0], 4.0],\n",
              " 'variance': [[0.6666666666666666, 0.6666666666666666, 0.6666666666666666],\n",
              "  [6.0, 6.0, 6.0],\n",
              "  6.666666666666667],\n",
              " 'standard deviation': [[0.816496580927726,\n",
              "   0.816496580927726,\n",
              "   0.816496580927726],\n",
              "  [2.449489742783178, 2.449489742783178, 2.449489742783178],\n",
              "  2.581988897471611],\n",
              " 'max': [[2, 5, 8], [6, 7, 8], 8],\n",
              " 'min': [[0, 3, 6], [0, 1, 2], 0],\n",
              " 'sum': [[3, 12, 21], [9, 12, 15], 36]}"
            ]
          },
          "metadata": {},
          "execution_count": 2
        }
      ]
    }
  ]
}